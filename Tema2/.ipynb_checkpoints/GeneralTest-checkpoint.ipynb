{
 "cells": [
  {
   "cell_type": "code",
   "execution_count": 1,
   "id": "1a3a796b-d592-45c8-abff-263fd164571b",
   "metadata": {},
   "outputs": [
    {
     "name": "stdout",
     "output_type": "stream",
     "text": [
      "[1, 2, 3, 4, 5]\n",
      "[8, 5, 4, 5, 8]\n",
      "[1, 2, 3, 4, 5]\n",
      "[8, 5, 4, 5, 8]\n",
      "[26.666666666666668, 16.666666666666668, 13.333333333333334, 16.666666666666668, 26.666666666666668]\n",
      "[26.666666666666668, 43.333333333333336, 56.66666666666667, 73.33333333333334, 100.00000000000001]\n"
     ]
    },
    {
     "ename": "ModuleNotFoundError",
     "evalue": "No module named 'tabulate'",
     "output_type": "error",
     "traceback": [
      "\u001b[0;31m---------------------------------------------------------------------------\u001b[0m",
      "\u001b[0;31mModuleNotFoundError\u001b[0m                       Traceback (most recent call last)",
      "Cell \u001b[0;32mIn[1], line 41\u001b[0m\n\u001b[1;32m     38\u001b[0m         table \u001b[38;5;241m=\u001b[39m tabulate(data, headers\u001b[38;5;241m=\u001b[39mencabezados, tablefmt\u001b[38;5;241m=\u001b[39m\u001b[38;5;124m\"\u001b[39m\u001b[38;5;124morgtbl\u001b[39m\u001b[38;5;124m\"\u001b[39m)\n\u001b[1;32m     39\u001b[0m         \u001b[38;5;28mprint\u001b[39m(table)\n\u001b[0;32m---> 41\u001b[0m \u001b[43mprintTable\u001b[49m\u001b[43m(\u001b[49m\u001b[43m[\u001b[49m\u001b[38;5;124;43m\"\u001b[39;49m\u001b[38;5;124;43mClase\u001b[39;49m\u001b[38;5;124;43m\"\u001b[39;49m\u001b[43m,\u001b[49m\u001b[43m \u001b[49m\u001b[38;5;124;43m\"\u001b[39;49m\u001b[38;5;124;43mFa\u001b[39;49m\u001b[38;5;124;43m\"\u001b[39;49m\u001b[43m,\u001b[49m\u001b[43m \u001b[49m\u001b[38;5;124;43m\"\u001b[39;49m\u001b[38;5;124;43mFr\u001b[39;49m\u001b[38;5;124;43m\"\u001b[39;49m\u001b[43m,\u001b[49m\u001b[43m \u001b[49m\u001b[38;5;124;43m\"\u001b[39;49m\u001b[38;5;124;43mFr Ac\u001b[39;49m\u001b[38;5;124;43m\"\u001b[39;49m\u001b[43m]\u001b[49m\u001b[43m,\u001b[49m\u001b[43m \u001b[49m\u001b[43m[\u001b[49m\u001b[43mclases_sorted\u001b[49m\u001b[43m,\u001b[49m\u001b[43m \u001b[49m\u001b[43mfabs_sorted\u001b[49m\u001b[43m,\u001b[49m\u001b[43m \u001b[49m\u001b[43mfrs\u001b[49m\u001b[43m,\u001b[49m\u001b[43m \u001b[49m\u001b[43mfacumuladas\u001b[49m\u001b[43m]\u001b[49m\u001b[43m)\u001b[49m\n",
      "Cell \u001b[0;32mIn[1], line 35\u001b[0m, in \u001b[0;36mprintTable\u001b[0;34m(encabezados, contenido)\u001b[0m\n\u001b[1;32m     27\u001b[0m \u001b[38;5;28;01mdef\u001b[39;00m \u001b[38;5;21mprintTable\u001b[39m(encabezados, contenido):\n\u001b[1;32m     28\u001b[0m \u001b[38;5;250m    \u001b[39m\u001b[38;5;124;03m'''\u001b[39;00m\n\u001b[1;32m     29\u001b[0m \u001b[38;5;124;03m        Dados 2 arreglos del mismo tamaño, crea una tabla  con encabezados y contenido\u001b[39;00m\n\u001b[1;32m     30\u001b[0m \u001b[38;5;124;03m        Ejemplo:\u001b[39;00m\n\u001b[0;32m   (...)\u001b[0m\n\u001b[1;32m     33\u001b[0m \u001b[38;5;124;03m            printTable([\"Clase\", \"Fa\"], [clases, frecAbs])\u001b[39;00m\n\u001b[1;32m     34\u001b[0m \u001b[38;5;124;03m    '''\u001b[39;00m\n\u001b[0;32m---> 35\u001b[0m     \u001b[38;5;28;01mfrom\u001b[39;00m \u001b[38;5;21;01mtabulate\u001b[39;00m \u001b[38;5;28;01mimport\u001b[39;00m tabulate\n\u001b[1;32m     36\u001b[0m     \u001b[38;5;28;01mif\u001b[39;00m(\u001b[38;5;28mlen\u001b[39m(encabezados) \u001b[38;5;241m==\u001b[39m \u001b[38;5;28mlen\u001b[39m(contenido)):\n\u001b[1;32m     37\u001b[0m         data \u001b[38;5;241m=\u001b[39m \u001b[38;5;28mlist\u001b[39m(\u001b[38;5;28mzip\u001b[39m(\u001b[38;5;241m*\u001b[39mcontenido))\n",
      "\u001b[0;31mModuleNotFoundError\u001b[0m: No module named 'tabulate'"
     ]
    }
   ],
   "source": [
    "import CodeBase.Carmen as car\n",
    "import CodeBase.Jean as jen\n",
    "import CodeBase.Mary as mar\n",
    "import CodeBase.Edwin as ed\n",
    "import CodeBase.Ivan as iv\n",
    "\n",
    "datos = [\n",
    "  1, 2, 2, 4, 5, 2, 3, 4, 5, 1,\n",
    "  3, 4, 5, 1, 2, 5, 5, 1, 4, 3,\n",
    "  5, 1, 2, 3, 4, 1, 1, 1, 5, 5\n",
    "]\n",
    "\n",
    "clases, fabs = car.frec_abs(datos)\n",
    "clases_sorted = jen.get_clases(clases)\n",
    "fabs_sorted = mar.sort_clases_fa(clases, clases_sorted, fabs)\n",
    "frs = ed.frecRel(fabs_sorted)\n",
    "facumuladas = iv.calcular_frecuencia_acumulada(frs)\n",
    "print(clases)\n",
    "print(fabs)\n",
    "print(clases_sorted)\n",
    "print(fabs_sorted)\n",
    "print(frs)\n",
    "print(facumuladas)\n",
    "\n",
    "\n",
    "# Imprimir tabla\n",
    "def printTable(encabezados, contenido):\n",
    "    '''\n",
    "        Dados 2 arreglos del mismo tamaño, crea una tabla  con encabezados y contenido\n",
    "        Ejemplo:\n",
    "            clases = [0, 5, 7, 6, 4, 2]\n",
    "            frecAbs = [2, 3, 2, 1, 1, 2]\n",
    "            printTable([\"Clase\", \"Fa\"], [clases, frecAbs])\n",
    "    '''\n",
    "    from tabulate import tabulate\n",
    "    if(len(encabezados) == len(contenido)):\n",
    "        data = list(zip(*contenido))\n",
    "        table = tabulate(data, headers=encabezados, tablefmt=\"orgtbl\")\n",
    "        print(table)\n",
    "\n",
    "printTable([\"Clase\", \"Fa\", \"Fr\", \"Fr Ac\"], [clases_sorted, fabs_sorted, frs, facumuladas])"
   ]
  },
  {
   "cell_type": "code",
   "execution_count": null,
   "id": "7f2a666e-8cbe-4f9e-a7fe-1b6fdb0167ef",
   "metadata": {},
   "outputs": [],
   "source": []
  }
 ],
 "metadata": {
  "kernelspec": {
   "display_name": "Python 3 (ipykernel)",
   "language": "python",
   "name": "python3"
  },
  "language_info": {
   "codemirror_mode": {
    "name": "ipython",
    "version": 3
   },
   "file_extension": ".py",
   "mimetype": "text/x-python",
   "name": "python",
   "nbconvert_exporter": "python",
   "pygments_lexer": "ipython3",
   "version": "3.12.2"
  }
 },
 "nbformat": 4,
 "nbformat_minor": 5
}
